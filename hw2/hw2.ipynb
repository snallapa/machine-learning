{
 "cells": [
  {
   "cell_type": "code",
   "execution_count": 2,
   "metadata": {},
   "outputs": [],
   "source": [
    "import pandas as pd\n",
    "import numpy as np\n",
    "data = pd.read_csv(\"spambase/spambase.data\")"
   ]
  },
  {
   "cell_type": "markdown",
   "metadata": {},
   "source": [
    "# Problem 1"
   ]
  },
  {
   "cell_type": "markdown",
   "metadata": {},
   "source": [
    "## Part A"
   ]
  },
  {
   "cell_type": "code",
   "execution_count": 3,
   "metadata": {},
   "outputs": [
    {
     "data": {
      "text/plain": [
       "0.396231884057971"
      ]
     },
     "execution_count": 3,
     "metadata": {},
     "output_type": "execute_result"
    }
   ],
   "source": [
    "from sklearn.model_selection import train_test_split\n",
    "train, test = train_test_split(data, test_size=0.25)\n",
    "spam = train[train.columns[-1]].sum()\n",
    "total = len(train)\n",
    "spam/total"
   ]
  },
  {
   "cell_type": "code",
   "execution_count": 4,
   "metadata": {},
   "outputs": [],
   "source": [
    "from sklearn.linear_model import LogisticRegression\n",
    "X = train.drop(train.columns[-1], axis=1)\n",
    "y = train[train.columns[-1]]\n",
    "model = LogisticRegression(random_state=0).fit(X, y)"
   ]
  },
  {
   "cell_type": "code",
   "execution_count": 5,
   "metadata": {},
   "outputs": [],
   "source": [
    "y_true = test[test.columns[-1]]\n",
    "X_test = test.drop(train.columns[-1], axis=1)\n",
    "from sklearn.metrics import confusion_matrix\n",
    "y_pred = model.predict(X_test)\n",
    "cm = confusion_matrix(y_true, y_pred)"
   ]
  },
  {
   "cell_type": "code",
   "execution_count": 6,
   "metadata": {},
   "outputs": [
    {
     "name": "stdout",
     "output_type": "stream",
     "text": [
      "True Negative: 675 False Positives: 30 False Negatives: 44 True Positives: 401\n"
     ]
    }
   ],
   "source": [
    "tn, fp, fn, tp = cm.ravel()\n",
    "print(\"True Negative:\", tn, \"False Positives:\", fp, \"False Negatives:\", fn, \"True Positives:\", tp)"
   ]
  },
  {
   "cell_type": "code",
   "execution_count": 7,
   "metadata": {},
   "outputs": [
    {
     "name": "stdout",
     "output_type": "stream",
     "text": [
      "Accuracy: 0.9356521739130435 Error: 0.06434782608695655\n"
     ]
    }
   ],
   "source": [
    "accuracy = model.score(X_test, y_true)\n",
    "error = 1 - accuracy\n",
    "print(\"Accuracy:\", accuracy, \"Error:\", error)"
   ]
  },
  {
   "cell_type": "code",
   "execution_count": 8,
   "metadata": {},
   "outputs": [
    {
     "name": "stdout",
     "output_type": "stream",
     "text": [
      "Precision: 0.9303944315545244 Recall: 0.9011235955056179 F1: 0.9155251141552512\n"
     ]
    }
   ],
   "source": [
    "precision = tp / (tp + fp)\n",
    "recall = tp / (tp + fn)\n",
    "f1 = 2 * (precision * recall) / (precision + recall)\n",
    "print(\"Precision:\", precision, \"Recall:\", recall, \"F1:\", f1)"
   ]
  },
  {
   "cell_type": "markdown",
   "metadata": {},
   "source": [
    "## Part B"
   ]
  },
  {
   "cell_type": "code",
   "execution_count": 9,
   "metadata": {},
   "outputs": [
    {
     "data": {
      "text/plain": [
       "array([[-2.55277779e-01, -1.74931936e-01,  1.29060667e-01,\n",
       "         7.24060385e-01,  5.20339381e-01,  7.72278384e-01,\n",
       "         2.05783525e+00,  7.33535862e-01,  5.86622842e-01,\n",
       "         2.17783801e-01, -4.89150092e-02, -2.24350708e-01,\n",
       "         3.40741185e-02,  8.01733158e-03,  9.72970330e-01,\n",
       "         8.80156410e-01,  7.39016926e-01,  1.04319109e-01,\n",
       "         5.52332404e-02,  7.72222456e-01,  2.50674529e-01,\n",
       "         2.76411680e-01,  2.32896094e+00,  3.62864831e-01,\n",
       "        -1.80092046e+00, -7.03153269e-01, -3.33529224e+00,\n",
       "         2.60278086e-01, -1.25790734e+00, -2.86822268e-01,\n",
       "        -3.34554155e-01,  2.96723476e-02, -8.96378601e-01,\n",
       "        -5.22364147e-02, -9.88972363e-01,  5.24870336e-01,\n",
       "         8.81987789e-02, -4.97684931e-01, -6.16561269e-01,\n",
       "        -1.71511994e-01, -1.23046448e+00, -1.74614394e+00,\n",
       "        -7.78558557e-01, -1.30746202e+00, -6.31937988e-01,\n",
       "        -1.64079356e+00, -9.94651270e-01, -1.50156871e+00,\n",
       "        -1.21099704e+00, -3.81480979e-01, -4.53922215e-01,\n",
       "         4.37746226e-01,  3.62149848e+00,  8.49030840e-01,\n",
       "        -9.73859455e-03,  6.45365282e-03,  6.13646114e-04]])"
      ]
     },
     "execution_count": 9,
     "metadata": {},
     "output_type": "execute_result"
    }
   ],
   "source": [
    "model.coef_"
   ]
  },
  {
   "cell_type": "markdown",
   "metadata": {},
   "source": [
    "The columns that have the largest contributions are char_freq_$, word_freq_remove, word_freq_000, word_freq_george. "
   ]
  },
  {
   "cell_type": "markdown",
   "metadata": {},
   "source": [
    "## Part C"
   ]
  },
  {
   "cell_type": "code",
   "execution_count": 10,
   "metadata": {},
   "outputs": [
    {
     "name": "stdout",
     "output_type": "stream",
     "text": [
      "T: 0.1 Accuracy: 0.8139130434782609\n",
      "T: 0.2 Accuracy: 0.8582608695652174\n",
      "T: 0.30000000000000004 Accuracy: 0.9121739130434783\n",
      "T: 0.4 Accuracy: 0.9330434782608695\n",
      "T: 0.5 Accuracy: 0.9356521739130435\n",
      "T: 0.6000000000000001 Accuracy: 0.9243478260869565\n",
      "T: 0.7000000000000001 Accuracy: 0.9078260869565218\n",
      "T: 0.8 Accuracy: 0.88\n",
      "T: 0.9 Accuracy: 0.8417391304347827\n"
     ]
    }
   ],
   "source": [
    "from sklearn.metrics import accuracy_score\n",
    "probs = model.predict_proba(X_test)\n",
    "thresholds = [.1 * x for x in range(1,10)]\n",
    "accuracy = []\n",
    "for t in thresholds:\n",
    "    preds = np.where(model.predict_proba(X_test)[:,1] > t, 1, 0)\n",
    "    accuracy.append(accuracy_score(y_true, preds))\n",
    "for i in range(len(thresholds)):\n",
    "    print(\"T:\", thresholds[i], \"Accuracy:\", accuracy[i])"
   ]
  },
  {
   "cell_type": "code",
   "execution_count": 12,
   "metadata": {},
   "outputs": [
    {
     "data": {
      "image/png": "[encoded data removed]",
      "text/plain": [
       "<Figure size 432x288 with 1 Axes>"
      ]
     },
     "metadata": {
      "needs_background": "light"
     },
     "output_type": "display_data"
    }
   ],
   "source": [
    "import matplotlib.pyplot as plt\n",
    "plt.plot(thresholds, accuracy)\n",
    "plt.show()"
   ]
  },
  {
   "cell_type": "markdown",
   "metadata": {},
   "source": [
    "# Problem 2"
   ]
  },
  {
   "cell_type": "markdown",
   "metadata": {},
   "source": [
    "## Part A"
   ]
  },
  {
   "cell_type": "code",
   "execution_count": 13,
   "metadata": {},
   "outputs": [
    {
     "name": "stdout",
     "output_type": "stream",
     "text": [
      "K: 2 Accuracy: 0.8104347826086956 Error: 0.18956521739130439\n",
      "K: 3 Accuracy: 0.8078260869565217 Error: 0.1921739130434783\n",
      "K: 4 Accuracy: 0.802608695652174 Error: 0.19739130434782604\n",
      "K: 5 Accuracy: 0.811304347826087 Error: 0.18869565217391304\n",
      "K: 6 Accuracy: 0.7939130434782609 Error: 0.20608695652173914\n",
      "K: 7 Accuracy: 0.7869565217391304 Error: 0.21304347826086956\n",
      "K: 8 Accuracy: 0.7860869565217391 Error: 0.2139130434782609\n",
      "K: 9 Accuracy: 0.788695652173913 Error: 0.21130434782608698\n",
      "K: 10 Accuracy: 0.7869565217391304 Error: 0.21304347826086956\n",
      "K: 11 Accuracy: 0.7843478260869565 Error: 0.21565217391304348\n",
      "K: 12 Accuracy: 0.7904347826086957 Error: 0.2095652173913043\n",
      "K: 13 Accuracy: 0.7834782608695652 Error: 0.21652173913043482\n",
      "K: 14 Accuracy: 0.7817391304347826 Error: 0.2182608695652174\n"
     ]
    }
   ],
   "source": [
    "from sklearn.neighbors import KNeighborsClassifier\n",
    "from sklearn.discriminant_analysis import LinearDiscriminantAnalysis\n",
    "from sklearn.tree import DecisionTreeClassifier\n",
    "ks = [i for i in range(2,15)]\n",
    "accuracy = []\n",
    "for k in ks:\n",
    "    knn = KNeighborsClassifier(n_neighbors=k)\n",
    "    knn.fit(X,y)\n",
    "    accuracy.append(knn.score(X_test, y_true))\n",
    "for i in range(len(ks)):\n",
    "    print(\"K:\", ks[i], \"Accuracy:\", accuracy[i], \"Error:\",1-accuracy[i])\n"
   ]
  },
  {
   "cell_type": "markdown",
   "metadata": {},
   "source": [
    "## Part B"
   ]
  },
  {
   "cell_type": "code",
   "execution_count": 14,
   "metadata": {},
   "outputs": [
    {
     "name": "stdout",
     "output_type": "stream",
     "text": [
      "Logistic Regression Accuracy: 0.9356521739130435 LDA Accuracy: 0.8904347826086957 Knn k=3 Accuracy: 0.811304347826087 Decision Tree Accuracy 0.9156521739130434\n",
      "Logistic Regression Error 0.06434782608695655 LDA Error: 0.10956521739130431 Knn k=3 Error: 0.18869565217391304 Decision Tree Error 0.08434782608695657\n"
     ]
    }
   ],
   "source": [
    "knn = KNeighborsClassifier(n_neighbors=5)\n",
    "lda = LinearDiscriminantAnalysis()\n",
    "decisionTree = DecisionTreeClassifier(random_state=0)\n",
    "knn.fit(X,y)\n",
    "lda.fit(X,y)\n",
    "decisionTree.fit(X,y)\n",
    "accuracyLR = model.score(X_test, y_true)\n",
    "accuracyLDA = lda.score(X_test, y_true)\n",
    "accuracyKnn = knn.score(X_test, y_true)\n",
    "accuracyDecision = decisionTree.score(X_test, y_true)\n",
    "print(\"Logistic Regression Accuracy:\",accuracyLR, \"LDA Accuracy:\", accuracyLDA, \"Knn k=3 Accuracy:\", accuracyKnn, \"Decision Tree Accuracy\", accuracyDecision)\n",
    "print(\"Logistic Regression Error\", 1 - accuracyLR,\"LDA Error:\", 1 - accuracyLDA, \"Knn k=3 Error:\", 1 - accuracyKnn, \"Decision Tree Error\", 1 - accuracyDecision)"
   ]
  },
  {
   "cell_type": "markdown",
   "metadata": {},
   "source": [
    "The model that performs the best is the Logistic Regression model and the worst is Knn. I thought larger values of K would help the error of the model, but the knn only got worse as k increased. K=3 was already the best in terms of accuracy on the test set. Decision Tree was close to Logistic Regression and might be better because of its interpretability. "
   ]
  },
  {
   "cell_type": "markdown",
   "metadata": {},
   "source": [
    "## Part C"
   ]
  },
  {
   "cell_type": "code",
   "execution_count": 15,
   "metadata": {},
   "outputs": [
    {
     "data": {
      "image/png": "[encoded data removed]",
      "text/plain": [
       "<Figure size 432x288 with 1 Axes>"
      ]
     },
     "metadata": {
      "needs_background": "light"
     },
     "output_type": "display_data"
    }
   ],
   "source": [
    "from sklearn.metrics import roc_curve\n",
    "fpr, tpr, _ = roc_curve(y_true, model.predict_proba(X_test)[:,1])\n",
    "plt.plot(fpr, tpr)\n",
    "plt.xlabel('False Positive Rate')\n",
    "plt.ylabel('True Positive Rate')\n",
    "plt.title('ROC of LR')\n",
    "plt.show()"
   ]
  },
  {
   "cell_type": "code",
   "execution_count": 16,
   "metadata": {},
   "outputs": [
    {
     "data": {
      "image/png": "[encoded data removed]",
      "text/plain": [
       "<Figure size 432x288 with 1 Axes>"
      ]
     },
     "metadata": {
      "needs_background": "light"
     },
     "output_type": "display_data"
    }
   ],
   "source": [
    "fpr, tpr, _ = roc_curve(y_true, lda.predict_proba(X_test)[:,1])\n",
    "plt.plot(fpr, tpr)\n",
    "plt.xlabel('False Positive Rate')\n",
    "plt.ylabel('True Positive Rate')\n",
    "plt.title('ROC of LDA')\n",
    "plt.show()"
   ]
  },
  {
   "cell_type": "code",
   "execution_count": 17,
   "metadata": {},
   "outputs": [
    {
     "data": {
      "image/png": "[encoded data removed]",
      "text/plain": [
       "<Figure size 432x288 with 1 Axes>"
      ]
     },
     "metadata": {
      "needs_background": "light"
     },
     "output_type": "display_data"
    }
   ],
   "source": [
    "fpr, tpr, _ = roc_curve(y_true, knn.predict_proba(X_test)[:,1])\n",
    "plt.plot(fpr, tpr)\n",
    "plt.xlabel('False Positive Rate')\n",
    "plt.ylabel('True Positive Rate')\n",
    "plt.title('ROC of Knn')\n",
    "plt.show()"
   ]
  },
  {
   "cell_type": "code",
   "execution_count": 18,
   "metadata": {},
   "outputs": [
    {
     "data": {
      "image/png": "[encoded data removed]",
      "text/plain": [
       "<Figure size 432x288 with 1 Axes>"
      ]
     },
     "metadata": {
      "needs_background": "light"
     },
     "output_type": "display_data"
    }
   ],
   "source": [
    "fpr, tpr, _ = roc_curve(y_true, decisionTree.predict_proba(X_test)[:,1])\n",
    "plt.plot(fpr, tpr)\n",
    "plt.xlabel('False Positive Rate')\n",
    "plt.ylabel('True Positive Rate')\n",
    "plt.title('ROC of Decision Tree')\n",
    "plt.show()"
   ]
  },
  {
   "cell_type": "code",
   "execution_count": 19,
   "metadata": {},
   "outputs": [
    {
     "name": "stdout",
     "output_type": "stream",
     "text": [
      "LR AUC: 0.9759438999123435 LDA AUC: 0.9487194198740935 Knn AUC: 0.8692740457406964 DecisionTree AUC 0.9129731452705394\n"
     ]
    }
   ],
   "source": [
    "from sklearn.metrics import roc_auc_score\n",
    "LRAuc = roc_auc_score(y_true, model.predict_proba(X_test)[:,1])\n",
    "LDAAuc = roc_auc_score(y_true, lda.predict_proba(X_test)[:,1])\n",
    "KnnAuc = roc_auc_score(y_true, knn.predict_proba(X_test)[:,1])\n",
    "DecisionTreeAuc = roc_auc_score(y_true, decisionTree.predict_proba(X_test)[:,1])\n",
    "print(\"LR AUC:\", LRAuc, \"LDA AUC:\", LDAAuc, \"Knn AUC:\", KnnAuc, \"DecisionTree AUC\", DecisionTreeAuc)"
   ]
  },
  {
   "cell_type": "markdown",
   "metadata": {},
   "source": [
    "# Problem 3"
   ]
  },
  {
   "cell_type": "markdown",
   "metadata": {},
   "source": [
    "## Part A"
   ]
  },
  {
   "cell_type": "code",
   "execution_count": 83,
   "metadata": {},
   "outputs": [
    {
     "name": "stdout",
     "output_type": "stream",
     "text": [
      "K: 2 Accuracy: 0.34 Error: 0.6599999999999999\n",
      "K: 3 Accuracy: 0.34 Error: 0.6599999999999999\n",
      "K: 4 Accuracy: 0.66 Error: 0.33999999999999997\n",
      "K: 5 Accuracy: 0.66 Error: 0.33999999999999997\n",
      "K: 6 Accuracy: 0.66 Error: 0.33999999999999997\n",
      "K: 7 Accuracy: 0.66 Error: 0.33999999999999997\n",
      "K: 8 Accuracy: 0.66 Error: 0.33999999999999997\n",
      "K: 9 Accuracy: 0.66 Error: 0.33999999999999997\n",
      "K: 10 Accuracy: 0.66 Error: 0.33999999999999997\n",
      "K: 11 Accuracy: 0.66 Error: 0.33999999999999997\n",
      "K: 12 Accuracy: 0.66 Error: 0.33999999999999997\n",
      "K: 13 Accuracy: 0.66 Error: 0.33999999999999997\n",
      "K: 14 Accuracy: 0.66 Error: 0.33999999999999997\n"
     ]
    }
   ],
   "source": [
    "import math, operator\n",
    "def euclidean(x, y):\n",
    "    return np.linalg.norm(x-y)\n",
    "class knn:\n",
    "    def __init__(self, k, data):\n",
    "        self.k = k\n",
    "        self.data = data\n",
    "    \n",
    "    def test(self, x):\n",
    "        distances = []\n",
    "        d = self.data\n",
    "        d[\"distance\"] = d.apply(lambda row: euclidean(row, x), axis=1)\n",
    "        values = []\n",
    "        distances = d[\"distance\"].sort_values()\n",
    "        for i in range(self.k):\n",
    "            values.append(y[distances.index[i]])\n",
    "        if sum(values) >= int(self.k/2):\n",
    "            return 1\n",
    "        return 0\n",
    "    def pred(self, test):\n",
    "        def do(row):\n",
    "            return self.test(row)\n",
    "        return test.copy().apply(do, axis=1)\n",
    "newX= X.copy().head(500)\n",
    "for k in ks:\n",
    "    myKnn = knn(k, newX)\n",
    "    accuracy = accuracy_score(y_true.head(50), myKnn.pred(X_test.head(50)))\n",
    "    print(\"K:\", k, \"Accuracy:\", accuracy, \"Error:\",1-accuracy)"
   ]
  },
  {
   "cell_type": "markdown",
   "metadata": {},
   "source": [
    "My KNN classifier was much slower than the package one so I had trouble running it on larger test data. I tried optimizing it by using more numpy packages, but I still had trouble with timing. It takes about 10-20 seconds to run on 100 data points in the test set and 500 points in the training set. The errors are then widely different because of the reduced sets and the results are different as well. There just is not enough data put in to have reliable results."
   ]
  },
  {
   "cell_type": "markdown",
   "metadata": {},
   "source": [
    "# Problem 4"
   ]
  },
  {
   "cell_type": "code",
   "execution_count": 104,
   "metadata": {},
   "outputs": [
    {
     "name": "stdout",
     "output_type": "stream",
     "text": [
      "k: 5 Error of Logistic Regression: 0.07710144927536233 Error of LDA: 0.11826086956521739\n",
      "k: 10 Error of Logistic Regression: 0.07768115942028986 Error of LDA: 0.11391304347826088\n",
      "k: 20 Error of Logistic Regression: 0.0762139023766931 Error of LDA: 0.11416751852798364\n"
     ]
    }
   ],
   "source": [
    "def kfold(k,data, response, model):\n",
    "    limit = int(len(data)/k)\n",
    "    sets = []\n",
    "    rsets = []\n",
    "    start = 0\n",
    "    end = limit\n",
    "    for i in range(k-1):\n",
    "        sets.append(data.iloc[start:end])\n",
    "        rsets.append(response.iloc[start:end])\n",
    "        start = end\n",
    "        end = end + limit\n",
    "    sets.append(data.iloc[start:])\n",
    "    rsets.append(response.iloc[start:])\n",
    "    verrors = []\n",
    "    for i in range(k):\n",
    "        validation_x = sets[i]\n",
    "        validation_y = rsets[i]\n",
    "        test = pd.concat(sets[:i] + sets[i+1:])\n",
    "        y = pd.concat(rsets[:i] + rsets[i+1:])\n",
    "        model.fit(test, y)\n",
    "        verrors.append(1 - model.score(validation_x, validation_y))\n",
    "    return sum(verrors)/k\n",
    "kfolds = [5,10,20]\n",
    "for k in kfolds:\n",
    "    error1 = kfold(k, X, y, LogisticRegression(random_state=0))\n",
    "    error2 = kfold(k, X, y, LinearDiscriminantAnalysis())\n",
    "    print(\"k:\",k, \"Error of Logistic Regression:\", error1, \"Error of LDA:\", error2)"
   ]
  },
  {
   "cell_type": "markdown",
   "metadata": {},
   "source": [
    "The model that performed better was logistic regression. The k-fold did make the error drop for each model than in the previous models that were just tested on test data. As K increased the error stayed about the same, but I imagine this is because as k increases test and validation sets get smaller, but there are also more expirements ran. So if one set did had higher error, other sets would probably have lower to balance out."
   ]
  }
 ],
 "metadata": {
  "kernelspec": {
   "display_name": "Python 3",
   "language": "python",
   "name": "python3"
  },
  "language_info": {
   "codemirror_mode": {
    "name": "ipython",
    "version": 3
   },
   "file_extension": ".py",
   "mimetype": "text/x-python",
   "name": "python",
   "nbconvert_exporter": "python",
   "pygments_lexer": "ipython3",
   "version": "3.6.6"
  }
 },
 "nbformat": 4,
 "nbformat_minor": 2
}
