{
 "cells": [
  {
   "cell_type": "code",
   "execution_count": 22,
   "metadata": {},
   "outputs": [],
   "source": [
    "import pandas as pd\n",
    "import numpy as np\n",
    "data = pd.read_csv(\"spambase/spambase.data\")"
   ]
  },
  {
   "cell_type": "markdown",
   "metadata": {},
   "source": [
    "# Problem 1"
   ]
  },
  {
   "cell_type": "markdown",
   "metadata": {},
   "source": [
    "## Part A"
   ]
  },
  {
   "cell_type": "code",
   "execution_count": 3,
   "metadata": {},
   "outputs": [
    {
     "data": {
      "text/plain": [
       "0.38869565217391305"
      ]
     },
     "execution_count": 3,
     "metadata": {},
     "output_type": "execute_result"
    }
   ],
   "source": [
    "from sklearn.model_selection import train_test_split\n",
    "train, test = train_test_split(data, test_size=0.25)\n",
    "spam = train[train.columns[-1]].sum()\n",
    "total = len(train)\n",
    "spam/total"
   ]
  },
  {
   "cell_type": "code",
   "execution_count": 4,
   "metadata": {},
   "outputs": [],
   "source": [
    "from sklearn.linear_model import LogisticRegression\n",
    "X = train.drop(train.columns[-1], axis=1)\n",
    "y = train[train.columns[-1]]\n",
    "model = LogisticRegression(random_state=0).fit(X, y)"
   ]
  },
  {
   "cell_type": "code",
   "execution_count": 5,
   "metadata": {},
   "outputs": [],
   "source": [
    "y_true = test[test.columns[-1]]\n",
    "X_test = test.drop(train.columns[-1], axis=1)\n",
    "from sklearn.metrics import confusion_matrix\n",
    "y_pred = model.predict(X_test)\n",
    "cm = confusion_matrix(y_true, y_pred)"
   ]
  },
  {
   "cell_type": "code",
   "execution_count": 6,
   "metadata": {},
   "outputs": [
    {
     "name": "stdout",
     "output_type": "stream",
     "text": [
      "True Negative: 647 False Positives: 32 False Negatives: 55 True Positives: 416\n"
     ]
    }
   ],
   "source": [
    "tn, fp, fn, tp = cm.ravel()\n",
    "print(\"True Negative:\", tn, \"False Positives:\", fp, \"False Negatives:\", fn, \"True Positives:\", tp)"
   ]
  },
  {
   "cell_type": "code",
   "execution_count": 7,
   "metadata": {},
   "outputs": [
    {
     "name": "stdout",
     "output_type": "stream",
     "text": [
      "Accuracy: 0.9243478260869565 Error: 0.07565217391304346\n"
     ]
    }
   ],
   "source": [
    "accuracy = model.score(X_test, y_true)\n",
    "error = 1 - accuracy\n",
    "print(\"Accuracy:\", accuracy, \"Error:\", error)"
   ]
  },
  {
   "cell_type": "code",
   "execution_count": 9,
   "metadata": {},
   "outputs": [
    {
     "name": "stdout",
     "output_type": "stream",
     "text": [
      "Precision: 0.9285714285714286 Recall: 0.8832271762208068 F1: 0.9053318824809575\n"
     ]
    }
   ],
   "source": [
    "precision = tp / (tp + fp)\n",
    "recall = tp / (tp + fn)\n",
    "f1 = 2 * (precision * recall) / (precision + recall)\n",
    "print(\"Precision:\", precision, \"Recall:\", recall, \"F1:\", f1)"
   ]
  },
  {
   "cell_type": "markdown",
   "metadata": {},
   "source": [
    "## Part B"
   ]
  },
  {
   "cell_type": "code",
   "execution_count": 62,
   "metadata": {},
   "outputs": [
    {
     "data": {
      "text/plain": [
       "array([[-2.62525495e-01, -1.70449634e-01,  1.61299150e-01,\n",
       "         7.69403523e-01,  5.81458947e-01,  7.55585309e-01,\n",
       "         2.63380899e+00,  5.23796549e-01,  3.34606554e-01,\n",
       "         6.52162155e-02, -4.73759177e-01, -1.28582282e-01,\n",
       "        -3.39319510e-02,  1.02622367e-01,  9.23593285e-01,\n",
       "         8.08299196e-01,  9.41513048e-01,  1.61454995e-02,\n",
       "         9.30082298e-02,  1.17080627e+00,  2.62180292e-01,\n",
       "         1.99502851e-01,  2.27253491e+00,  3.45374512e-01,\n",
       "        -1.66335571e+00, -1.41467561e+00, -3.32250494e+00,\n",
       "         7.65956156e-01, -1.21903843e+00, -1.14021199e+00,\n",
       "        -6.68426068e-01, -1.69169573e-01, -5.62458149e-01,\n",
       "        -2.32777011e-01, -9.27214072e-01,  7.30910194e-01,\n",
       "        -4.50073992e-02, -4.24806482e-01, -8.08277533e-01,\n",
       "        -7.45339543e-01, -1.22982862e+00, -1.83372232e+00,\n",
       "        -7.79669804e-01, -1.22642123e+00, -7.73155775e-01,\n",
       "        -1.19819490e+00, -6.75569475e-01, -1.41848700e+00,\n",
       "        -1.01157921e+00, -1.49382603e-01, -6.78974425e-01,\n",
       "         3.63853850e-01,  3.60281562e+00,  1.07650785e+00,\n",
       "         8.99303352e-02,  1.07724138e-02,  3.05177878e-04]])"
      ]
     },
     "execution_count": 62,
     "metadata": {},
     "output_type": "execute_result"
    }
   ],
   "source": [
    "model.coef_"
   ]
  },
  {
   "cell_type": "markdown",
   "metadata": {},
   "source": [
    "The columns that have the largest contributions are char_freq_$, word_freq_remove, word_freq_000, word_freq_george. "
   ]
  },
  {
   "cell_type": "markdown",
   "metadata": {},
   "source": [
    "## Part C"
   ]
  },
  {
   "cell_type": "code",
   "execution_count": 32,
   "metadata": {},
   "outputs": [
    {
     "name": "stdout",
     "output_type": "stream",
     "text": [
      "T: 0.1 Accuracy: 0.8104347826086956\n",
      "T: 0.2 Accuracy: 0.8773913043478261\n",
      "T: 0.30000000000000004 Accuracy: 0.9078260869565218\n",
      "T: 0.4 Accuracy: 0.9217391304347826\n",
      "T: 0.5 Accuracy: 0.9243478260869565\n",
      "T: 0.6000000000000001 Accuracy: 0.9182608695652174\n",
      "T: 0.7000000000000001 Accuracy: 0.8965217391304348\n",
      "T: 0.8 Accuracy: 0.8669565217391304\n",
      "T: 0.9 Accuracy: 0.8191304347826087\n"
     ]
    }
   ],
   "source": [
    "from sklearn.metrics import accuracy_score\n",
    "probs = model.predict_proba(X_test)\n",
    "thresholds = [.1 * x for x in range(1,10)]\n",
    "accuracy = []\n",
    "for t in thresholds:\n",
    "    preds = np.where(model.predict_proba(X_test)[:,1] > t, 1, 0)\n",
    "    accuracy.append(accuracy_score(y_true, preds))\n",
    "for i in range(len(thresholds)):\n",
    "    print(\"T:\", thresholds[i], \"Accuracy:\", accuracy[i])"
   ]
  },
  {
   "cell_type": "code",
   "execution_count": 31,
   "metadata": {},
   "outputs": [
    {
     "data": {
      "image/png": "[encoded data removed]",
      "text/plain": [
       "<Figure size 432x288 with 1 Axes>"
      ]
     },
     "metadata": {
      "needs_background": "light"
     },
     "output_type": "display_data"
    }
   ],
   "source": [
    "import matplotlib.pyplot as plt\n",
    "plt.plot(thresholds, accuracy)\n",
    "plt.show()"
   ]
  },
  {
   "cell_type": "markdown",
   "metadata": {},
   "source": [
    "# Problem 2"
   ]
  },
  {
   "cell_type": "markdown",
   "metadata": {},
   "source": [
    "## Part A"
   ]
  },
  {
   "cell_type": "code",
   "execution_count": 46,
   "metadata": {},
   "outputs": [
    {
     "name": "stdout",
     "output_type": "stream",
     "text": [
      "K: 2 Accuracy: 0.788695652173913 Error: 0.21130434782608698\n",
      "K: 3 Accuracy: 0.8008695652173913 Error: 0.19913043478260872\n",
      "K: 4 Accuracy: 0.78 Error: 0.21999999999999997\n",
      "K: 5 Accuracy: 0.788695652173913 Error: 0.21130434782608698\n",
      "K: 6 Accuracy: 0.782608695652174 Error: 0.21739130434782605\n",
      "K: 7 Accuracy: 0.7869565217391304 Error: 0.21304347826086956\n",
      "K: 8 Accuracy: 0.78 Error: 0.21999999999999997\n",
      "K: 9 Accuracy: 0.7913043478260869 Error: 0.20869565217391306\n",
      "K: 10 Accuracy: 0.7773913043478261 Error: 0.2226086956521739\n",
      "K: 11 Accuracy: 0.7817391304347826 Error: 0.2182608695652174\n",
      "K: 12 Accuracy: 0.7782608695652173 Error: 0.22173913043478266\n",
      "K: 13 Accuracy: 0.782608695652174 Error: 0.21739130434782605\n",
      "K: 14 Accuracy: 0.7773913043478261 Error: 0.2226086956521739\n"
     ]
    }
   ],
   "source": [
    "from sklearn.neighbors import KNeighborsClassifier\n",
    "from sklearn.discriminant_analysis import LinearDiscriminantAnalysis\n",
    "from sklearn.tree import DecisionTreeClassifier\n",
    "ks = [i for i in range(2,15)]\n",
    "accuracy = []\n",
    "for k in ks:\n",
    "    knn = KNeighborsClassifier(n_neighbors=k)\n",
    "    knn.fit(X,y)\n",
    "    accuracy.append(knn.score(X_test, y_true))\n",
    "for i in range(len(ks)):\n",
    "    print(\"K:\", ks[i], \"Accuracy:\", accuracy[i], \"Error:\",1-accuracy[i])\n"
   ]
  },
  {
   "cell_type": "markdown",
   "metadata": {},
   "source": [
    "## Part B"
   ]
  },
  {
   "cell_type": "code",
   "execution_count": 55,
   "metadata": {},
   "outputs": [
    {
     "name": "stdout",
     "output_type": "stream",
     "text": [
      "Logistic Regression Accuracy: 0.9243478260869565 LDA Accuracy: 0.8843478260869565 Knn k=3 Accuracy: 0.8008695652173913 Decision Tree Accuracy 0.9104347826086957\n",
      "Logistic Regression Error 0.07565217391304346 LDA Error: 0.1156521739130435 Knn k=3 Error: 0.19913043478260872 Decision Tree Error 0.0895652173913043\n"
     ]
    }
   ],
   "source": [
    "knn = KNeighborsClassifier(n_neighbors=3)\n",
    "lda = LinearDiscriminantAnalysis()\n",
    "decisionTree = DecisionTreeClassifier(random_state=0)\n",
    "knn.fit(X,y)\n",
    "lda.fit(X,y)\n",
    "decisionTree.fit(X,y)\n",
    "accuracyLR = model.score(X_test, y_true)\n",
    "accuracyLDA = lda.score(X_test, y_true)\n",
    "accuracyKnn = knn.score(X_test, y_true)\n",
    "accuracyDecision = decisionTree.score(X_test, y_true)\n",
    "print(\"Logistic Regression Accuracy:\",accuracyLR, \"LDA Accuracy:\", accuracyLDA, \"Knn k=3 Accuracy:\", accuracyKnn, \"Decision Tree Accuracy\", accuracyDecision)\n",
    "print(\"Logistic Regression Error\", 1 - accuracyLR,\"LDA Error:\", 1 - accuracyLDA, \"Knn k=3 Error:\", 1 - accuracyKnn, \"Decision Tree Error\", 1 - accuracyDecision)"
   ]
  },
  {
   "cell_type": "markdown",
   "metadata": {},
   "source": [
    "The model that performs the best is the Logistic Regression model and the worst is Knn. I thought larger values of K would help the error of the model, but the knn only got worse as k increased. K=3 was already the best in terms of accuracy on the test set. Decision Tree was close to Logistic Regression and might be better because of its interpretability. "
   ]
  },
  {
   "cell_type": "markdown",
   "metadata": {},
   "source": [
    "## Part C"
   ]
  },
  {
   "cell_type": "code",
   "execution_count": 56,
   "metadata": {},
   "outputs": [
    {
     "data": {
      "image/png": "[encoded data removed]",
      "text/plain": [
       "<Figure size 432x288 with 1 Axes>"
      ]
     },
     "metadata": {
      "needs_background": "light"
     },
     "output_type": "display_data"
    }
   ],
   "source": [
    "from sklearn.metrics import roc_curve\n",
    "fpr, tpr, _ = roc_curve(y_true, model.predict_proba(X_test)[:,1])\n",
    "plt.plot(fpr, tpr)\n",
    "plt.xlabel('False Positive Rate')\n",
    "plt.ylabel('True Positive Rate')\n",
    "plt.title('ROC of LR')\n",
    "plt.show()"
   ]
  },
  {
   "cell_type": "code",
   "execution_count": 57,
   "metadata": {},
   "outputs": [
    {
     "data": {
      "image/png": "[encoded data removed]",
      "text/plain": [
       "<Figure size 432x288 with 1 Axes>"
      ]
     },
     "metadata": {
      "needs_background": "light"
     },
     "output_type": "display_data"
    }
   ],
   "source": [
    "fpr, tpr, _ = roc_curve(y_true, lda.predict_proba(X_test)[:,1])\n",
    "plt.plot(fpr, tpr)\n",
    "plt.xlabel('False Positive Rate')\n",
    "plt.ylabel('True Positive Rate')\n",
    "plt.title('ROC of LDA')\n",
    "plt.show()"
   ]
  },
  {
   "cell_type": "code",
   "execution_count": 53,
   "metadata": {},
   "outputs": [
    {
     "data": {
      "image/png": "[encoded data removed]",
      "text/plain": [
       "<Figure size 432x288 with 1 Axes>"
      ]
     },
     "metadata": {
      "needs_background": "light"
     },
     "output_type": "display_data"
    }
   ],
   "source": [
    "fpr, tpr, _ = roc_curve(y_true, knn.predict_proba(X_test)[:,1])\n",
    "plt.plot(fpr, tpr)\n",
    "plt.xlabel('False Positive Rate')\n",
    "plt.ylabel('True Positive Rate')\n",
    "plt.title('ROC of Knn')\n",
    "plt.show()"
   ]
  },
  {
   "cell_type": "code",
   "execution_count": 54,
   "metadata": {},
   "outputs": [
    {
     "data": {
      "image/png": "[encoded data removed]",
      "text/plain": [
       "<Figure size 432x288 with 1 Axes>"
      ]
     },
     "metadata": {
      "needs_background": "light"
     },
     "output_type": "display_data"
    }
   ],
   "source": [
    "fpr, tpr, _ = roc_curve(y_true, decisionTree.predict_proba(X_test)[:,1])\n",
    "plt.plot(fpr, tpr)\n",
    "plt.xlabel('False Positive Rate')\n",
    "plt.ylabel('True Positive Rate')\n",
    "plt.title('ROC of Decision Tree')\n",
    "plt.show()"
   ]
  },
  {
   "cell_type": "code",
   "execution_count": 60,
   "metadata": {},
   "outputs": [
    {
     "name": "stdout",
     "output_type": "stream",
     "text": [
      "LR AUC: 0.9704386055426834 LDA AUC: 0.9433192937034292 Knn AUC: 0.8552729910665429 DecisionTree AUC 0.9095194319109218\n"
     ]
    }
   ],
   "source": [
    "from sklearn.metrics import roc_auc_score\n",
    "LRAuc = roc_auc_score(y_true, model.predict_proba(X_test)[:,1])\n",
    "LDAAuc = roc_auc_score(y_true, lda.predict_proba(X_test)[:,1])\n",
    "KnnAuc = roc_auc_score(y_true, knn.predict_proba(X_test)[:,1])\n",
    "DecisionTreeAuc = roc_auc_score(y_true, decisionTree.predict_proba(X_test)[:,1])\n",
    "print(\"LR AUC:\", LRAuc, \"LDA AUC:\", LDAAuc, \"Knn AUC:\", KnnAuc, \"DecisionTree AUC\", DecisionTreeAuc)"
   ]
  },
  {
   "cell_type": "code",
   "execution_count": null,
   "metadata": {},
   "outputs": [],
   "source": []
  }
 ],
 "metadata": {
  "kernelspec": {
   "display_name": "Python 3",
   "language": "python",
   "name": "python3"
  },
  "language_info": {
   "codemirror_mode": {
    "name": "ipython",
    "version": 3
   },
   "file_extension": ".py",
   "mimetype": "text/x-python",
   "name": "python",
   "nbconvert_exporter": "python",
   "pygments_lexer": "ipython3",
   "version": "3.6.6"
  }
 },
 "nbformat": 4,
 "nbformat_minor": 2
}
