{
 "cells": [
  {
   "cell_type": "code",
   "execution_count": 59,
   "metadata": {},
   "outputs": [],
   "source": [
    "import pandas as pd\n",
    "data = pd.read_csv(\"spambase/spambase.data\")"
   ]
  },
  {
   "cell_type": "markdown",
   "metadata": {},
   "source": [
    "# Problem 1"
   ]
  },
  {
   "cell_type": "markdown",
   "metadata": {},
   "source": [
    "## Part A"
   ]
  },
  {
   "cell_type": "code",
   "execution_count": 39,
   "metadata": {},
   "outputs": [
    {
     "data": {
      "text/plain": [
       "0.3947826086956522"
      ]
     },
     "execution_count": 39,
     "metadata": {},
     "output_type": "execute_result"
    }
   ],
   "source": [
    "from sklearn.model_selection import train_test_split\n",
    "train, test = train_test_split(data, test_size=0.25)\n",
    "spam = train[train.columns[-1]].sum()\n",
    "total = len(train)\n",
    "spam/total"
   ]
  },
  {
   "cell_type": "code",
   "execution_count": 40,
   "metadata": {},
   "outputs": [
    {
     "name": "stderr",
     "output_type": "stream",
     "text": [
      "/usr/local/Cellar/python3/3.6.4_2/Frameworks/Python.framework/Versions/3.6/lib/python3.6/site-packages/sklearn/linear_model/logistic.py:432: FutureWarning: Default solver will be changed to 'lbfgs' in 0.22. Specify a solver to silence this warning.\n",
      "  FutureWarning)\n"
     ]
    }
   ],
   "source": [
    "from sklearn.linear_model import LogisticRegression\n",
    "X = train.drop(train.columns[-1], axis=1)\n",
    "y = train[train.columns[-1]]\n",
    "model = LogisticRegression(random_state=0).fit(X, y)"
   ]
  },
  {
   "cell_type": "code",
   "execution_count": 50,
   "metadata": {},
   "outputs": [],
   "source": [
    "y_true = test[test.columns[-1]]\n",
    "X_test = test.drop(train.columns[-1], axis=1)\n",
    "from sklearn.metrics import confusion_matrix\n",
    "y_pred = model.predict(X_test)\n",
    "cm = confusion_matrix(y_true, y_pred)"
   ]
  },
  {
   "cell_type": "code",
   "execution_count": 52,
   "metadata": {},
   "outputs": [
    {
     "name": "stdout",
     "output_type": "stream",
     "text": [
      "True Negative: 663 False Positives: 37 False Negatives: 50 True Positives: 400\n"
     ]
    }
   ],
   "source": [
    "tn, fp, fn, tp = cm.ravel()\n",
    "print(\"True Negative:\", tn, \"False Positives:\", fp, \"False Negatives:\", fn, \"True Positives:\", tp)"
   ]
  },
  {
   "cell_type": "code",
   "execution_count": 58,
   "metadata": {},
   "outputs": [
    {
     "name": "stdout",
     "output_type": "stream",
     "text": [
      "Accuracy: 0.9243478260869565 Error: 0.07565217391304346\n"
     ]
    }
   ],
   "source": [
    "accuracy = model.score(X_test, y_true)\n",
    "error = 1 - accuracy\n",
    "print(\"Accuracy:\", accuracy, \"Error:\", error)"
   ]
  },
  {
   "cell_type": "code",
   "execution_count": 57,
   "metadata": {},
   "outputs": [
    {
     "name": "stdout",
     "output_type": "stream",
     "text": [
      "Precision: 0.9153318077803204 Recall: 0.8888888888888888\n"
     ]
    }
   ],
   "source": [
    "precision = tp / (tp + fp)\n",
    "recall = tp / (tp + fn)\n",
    "print(\"Precision:\", precision, \"Recall:\", recall)"
   ]
  },
  {
   "cell_type": "markdown",
   "metadata": {},
   "source": [
    "## Part B"
   ]
  },
  {
   "cell_type": "code",
   "execution_count": 62,
   "metadata": {},
   "outputs": [
    {
     "data": {
      "text/plain": [
       "array([[-2.62525495e-01, -1.70449634e-01,  1.61299150e-01,\n",
       "         7.69403523e-01,  5.81458947e-01,  7.55585309e-01,\n",
       "         2.63380899e+00,  5.23796549e-01,  3.34606554e-01,\n",
       "         6.52162155e-02, -4.73759177e-01, -1.28582282e-01,\n",
       "        -3.39319510e-02,  1.02622367e-01,  9.23593285e-01,\n",
       "         8.08299196e-01,  9.41513048e-01,  1.61454995e-02,\n",
       "         9.30082298e-02,  1.17080627e+00,  2.62180292e-01,\n",
       "         1.99502851e-01,  2.27253491e+00,  3.45374512e-01,\n",
       "        -1.66335571e+00, -1.41467561e+00, -3.32250494e+00,\n",
       "         7.65956156e-01, -1.21903843e+00, -1.14021199e+00,\n",
       "        -6.68426068e-01, -1.69169573e-01, -5.62458149e-01,\n",
       "        -2.32777011e-01, -9.27214072e-01,  7.30910194e-01,\n",
       "        -4.50073992e-02, -4.24806482e-01, -8.08277533e-01,\n",
       "        -7.45339543e-01, -1.22982862e+00, -1.83372232e+00,\n",
       "        -7.79669804e-01, -1.22642123e+00, -7.73155775e-01,\n",
       "        -1.19819490e+00, -6.75569475e-01, -1.41848700e+00,\n",
       "        -1.01157921e+00, -1.49382603e-01, -6.78974425e-01,\n",
       "         3.63853850e-01,  3.60281562e+00,  1.07650785e+00,\n",
       "         8.99303352e-02,  1.07724138e-02,  3.05177878e-04]])"
      ]
     },
     "execution_count": 62,
     "metadata": {},
     "output_type": "execute_result"
    }
   ],
   "source": [
    "model.coef_"
   ]
  },
  {
   "cell_type": "markdown",
   "metadata": {},
   "source": [
    "The columns that have the largest contributions are char_freq_$, word_freq_remove, word_freq_000, word_freq_george. "
   ]
  },
  {
   "cell_type": "markdown",
   "metadata": {},
   "source": [
    "## Part C"
   ]
  },
  {
   "cell_type": "code",
   "execution_count": null,
   "metadata": {},
   "outputs": [],
   "source": []
  }
 ],
 "metadata": {
  "kernelspec": {
   "display_name": "Python 3",
   "language": "python",
   "name": "python3"
  },
  "language_info": {
   "codemirror_mode": {
    "name": "ipython",
    "version": 3
   },
   "file_extension": ".py",
   "mimetype": "text/x-python",
   "name": "python",
   "nbconvert_exporter": "python",
   "pygments_lexer": "ipython3",
   "version": "3.6.4"
  }
 },
 "nbformat": 4,
 "nbformat_minor": 2
}
