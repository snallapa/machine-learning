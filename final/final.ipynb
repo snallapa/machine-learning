{
 "cells": [
  {
   "cell_type": "code",
   "execution_count": 2,
   "metadata": {},
   "outputs": [],
   "source": [
    "data = []\n",
    "with open(\"grammatical_facial_expression/a_affirmative_datapoints.txt\") as f:\n",
    "    for line in f:\n",
    "        line = line.split()\n",
    "        data.append(line)\n",
    "import csv\n",
    "with open(\"a_affirmative_datapoints.csv\", \"w\") as f:\n",
    "    writer = csv.writer(f)\n",
    "    writer.writerows(data)"
   ]
  },
  {
   "cell_type": "code",
   "execution_count": 49,
   "metadata": {},
   "outputs": [
    {
     "data": {
      "text/plain": [
       "<matplotlib.figure.Figure at 0x10efc7f60>"
      ]
     },
     "metadata": {},
     "output_type": "display_data"
    }
   ],
   "source": [
    "import matplotlib.pyplot as plt\n",
    "from matplotlib.animation import FuncAnimation\n",
    "for row in range(1, len(data)):\n",
    "    x = []\n",
    "    i = 1\n",
    "    row = (row) % len(data)\n",
    "    while i < len(data[0]):\n",
    "        x.append(data[row][i])\n",
    "        i += 3\n",
    "    y = []\n",
    "    i = 2\n",
    "    while i < len(data[0]):\n",
    "        y.append(data[row][i])\n",
    "        i += 3\n",
    "    plt.scatter(x,y)\n",
    "    plt.axis('equal')\n",
    "    plt.gca().invert_yaxis()\n",
    "    plt.savefig(\"test/test\" + str(row) + \".png\")\n",
    "    plt.clf()"
   ]
  },
  {
   "cell_type": "code",
   "execution_count": null,
   "metadata": {},
   "outputs": [],
   "source": []
  }
 ],
 "metadata": {
  "kernelspec": {
   "display_name": "Python 3",
   "language": "python",
   "name": "python3"
  },
  "language_info": {
   "codemirror_mode": {
    "name": "ipython",
    "version": 3
   },
   "file_extension": ".py",
   "mimetype": "text/x-python",
   "name": "python",
   "nbconvert_exporter": "python",
   "pygments_lexer": "ipython3",
   "version": "3.6.4"
  }
 },
 "nbformat": 4,
 "nbformat_minor": 2
}
