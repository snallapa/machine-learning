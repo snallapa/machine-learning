{
 "cells": [
  {
   "cell_type": "code",
   "execution_count": 18,
   "metadata": {},
   "outputs": [],
   "source": [
    "def translate(person, filename):\n",
    "    data = []\n",
    "    with open(\"grammatical_facial_expression/{}_{}_datapoints.txt\".format(person, filename)) as f:\n",
    "        for line in f:\n",
    "            line = line.split()\n",
    "            data.append(line)\n",
    "    with open(\"grammatical_facial_expression/{}_{}_targets.txt\".format(person, filename)) as f:\n",
    "        i = 1\n",
    "        data[0].append(0)\n",
    "        for line in f:\n",
    "            line = line.strip()\n",
    "            line = int(line)\n",
    "            data[i].append(line)\n",
    "            i += 1\n",
    "    import csv\n",
    "    with open(\"{}_{}.csv\".format(person, filename), \"w\") as f:\n",
    "        writer = csv.writer(f)\n",
    "        writer.writerows(data)\n",
    "files = [\"affirmative\", \"conditional\", \n",
    " \"doubt_question\", \"emphasis\", \"negative\",\"relative\",\n",
    "\"topics\", \"wh_question\", \"yn_question\"]\n",
    "for file in files:\n",
    "    translate(\"a\", file)\n",
    "    translate(\"b\", file)"
   ]
  },
  {
   "cell_type": "code",
   "execution_count": 11,
   "metadata": {},
   "outputs": [],
   "source": [
    "import matplotlib.pyplot as plt\n",
    "def makePlots(filename):\n",
    "    data = []\n",
    "    with open(\"grammatical_facial_expression/{}_datapoints.txt\".format(filename)) as f:\n",
    "        for line in f:\n",
    "            line = line.split()\n",
    "            data.append(line)\n",
    "    for row in range(1, len(data)):\n",
    "        x = []\n",
    "        i = 1\n",
    "        row = (row) % len(data)\n",
    "        while i < len(data[0]):\n",
    "            x.append(data[row][i])\n",
    "            i += 3\n",
    "        y = []\n",
    "        i = 2\n",
    "        while i < len(data[0]):\n",
    "            y.append(data[row][i])\n",
    "            i += 3\n",
    "        plt.scatter(x,y)\n",
    "        plt.axis('equal')\n",
    "        plt.gca().invert_yaxis()\n",
    "        plt.savefig(\"test/test\" + str(row) + \".png\")\n",
    "        plt.clf()"
   ]
  },
  {
   "cell_type": "code",
   "execution_count": 17,
   "metadata": {},
   "outputs": [
    {
     "data": {
      "text/plain": [
       "<matplotlib.figure.Figure at 0x112eaea58>"
      ]
     },
     "metadata": {},
     "output_type": "display_data"
    }
   ],
   "source": [
    "makePlots(\"a_yn_question\")"
   ]
  },
  {
   "cell_type": "code",
   "execution_count": null,
   "metadata": {},
   "outputs": [],
   "source": []
  }
 ],
 "metadata": {
  "kernelspec": {
   "display_name": "Python 3",
   "language": "python",
   "name": "python3"
  },
  "language_info": {
   "codemirror_mode": {
    "name": "ipython",
    "version": 3
   },
   "file_extension": ".py",
   "mimetype": "text/x-python",
   "name": "python",
   "nbconvert_exporter": "python",
   "pygments_lexer": "ipython3",
   "version": "3.6.4"
  }
 },
 "nbformat": 4,
 "nbformat_minor": 2
}
