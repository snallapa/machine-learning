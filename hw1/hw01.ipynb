{
 "cells": [
  {
   "cell_type": "markdown",
   "metadata": {},
   "source": [
    "# Problem 1"
   ]
  },
  {
   "cell_type": "code",
   "execution_count": 411,
   "metadata": {},
   "outputs": [],
   "source": [
    "import pandas\n",
    "import math"
   ]
  },
  {
   "cell_type": "code",
   "execution_count": 412,
   "metadata": {},
   "outputs": [],
   "source": [
    "data = pandas.read_csv(\"kc_house_data.csv\")\n",
    "data = data.drop([\"id\", \"date\", \"zipcode\"], axis=1)"
   ]
  },
  {
   "cell_type": "markdown",
   "metadata": {},
   "source": [
    "## Part A"
   ]
  },
  {
   "cell_type": "code",
   "execution_count": 413,
   "metadata": {},
   "outputs": [
    {
     "data": {
      "text/plain": [
       "price            540088.141767\n",
       "bedrooms              3.370842\n",
       "bathrooms             2.114757\n",
       "sqft_living        2079.899736\n",
       "sqft_lot          15106.967566\n",
       "floors                1.494309\n",
       "waterfront            0.007542\n",
       "view                  0.234303\n",
       "condition             3.409430\n",
       "grade                 7.656873\n",
       "sqft_above         1788.390691\n",
       "sqft_basement       291.509045\n",
       "yr_built           1971.005136\n",
       "yr_renovated         84.402258\n",
       "lat                  47.560053\n",
       "long               -122.213896\n",
       "sqft_living15      1986.552492\n",
       "sqft_lot15        12768.455652\n",
       "dtype: float64"
      ]
     },
     "execution_count": 413,
     "metadata": {},
     "output_type": "execute_result"
    }
   ],
   "source": [
    "data.mean()"
   ]
  },
  {
   "cell_type": "code",
   "execution_count": 414,
   "metadata": {},
   "outputs": [
    {
     "data": {
      "text/plain": [
       "price            7.700000e+06\n",
       "bedrooms         3.300000e+01\n",
       "bathrooms        8.000000e+00\n",
       "sqft_living      1.354000e+04\n",
       "sqft_lot         1.651359e+06\n",
       "floors           3.500000e+00\n",
       "waterfront       1.000000e+00\n",
       "view             4.000000e+00\n",
       "condition        5.000000e+00\n",
       "grade            1.300000e+01\n",
       "sqft_above       9.410000e+03\n",
       "sqft_basement    4.820000e+03\n",
       "yr_built         2.015000e+03\n",
       "yr_renovated     2.015000e+03\n",
       "lat              4.777760e+01\n",
       "long            -1.213150e+02\n",
       "sqft_living15    6.210000e+03\n",
       "sqft_lot15       8.712000e+05\n",
       "dtype: float64"
      ]
     },
     "execution_count": 414,
     "metadata": {},
     "output_type": "execute_result"
    }
   ],
   "source": [
    "data.max()"
   ]
  },
  {
   "cell_type": "code",
   "execution_count": 415,
   "metadata": {},
   "outputs": [
    {
     "data": {
      "text/plain": [
       "price            1.347824e+11\n",
       "bedrooms         8.650150e-01\n",
       "bathrooms        5.931513e-01\n",
       "sqft_living      8.435337e+05\n",
       "sqft_lot         1.715659e+09\n",
       "floors           2.915880e-01\n",
       "waterfront       7.485226e-03\n",
       "view             5.872426e-01\n",
       "condition        4.234665e-01\n",
       "grade            1.381703e+00\n",
       "sqft_above       6.857347e+05\n",
       "sqft_basement    1.958727e+05\n",
       "yr_built         8.627973e+02\n",
       "yr_renovated     1.613462e+05\n",
       "lat              1.919990e-02\n",
       "long             1.983262e-02\n",
       "sqft_living15    4.697612e+05\n",
       "sqft_lot15       7.455182e+08\n",
       "dtype: float64"
      ]
     },
     "execution_count": 415,
     "metadata": {},
     "output_type": "execute_result"
    }
   ],
   "source": [
    "data.var()"
   ]
  },
  {
   "cell_type": "markdown",
   "metadata": {},
   "source": [
    "## Part B"
   ]
  },
  {
   "cell_type": "code",
   "execution_count": 416,
   "metadata": {},
   "outputs": [
    {
     "data": {
      "text/plain": [
       "bedrooms         0.308350\n",
       "bathrooms        0.525138\n",
       "sqft_living      0.702035\n",
       "sqft_lot         0.089661\n",
       "floors           0.256794\n",
       "waterfront       0.266369\n",
       "view             0.397293\n",
       "condition        0.036362\n",
       "grade            0.667434\n",
       "sqft_above       0.605567\n",
       "sqft_basement    0.323816\n",
       "yr_built         0.054012\n",
       "yr_renovated     0.126434\n",
       "lat              0.307003\n",
       "long             0.021626\n",
       "sqft_living15    0.585379\n",
       "sqft_lot15       0.082447\n",
       "Name: price, dtype: float64"
      ]
     },
     "execution_count": 416,
     "metadata": {},
     "output_type": "execute_result"
    }
   ],
   "source": [
    "data.corr()['price'].drop(['price'])"
   ]
  },
  {
   "cell_type": "markdown",
   "metadata": {},
   "source": [
    "### Correlation Coefficient\n",
    "All features have a positive correlation and the biggest ones seem to be sqft_living, sqft_above, and grade followed by bathrooms and sqft_living15. "
   ]
  },
  {
   "cell_type": "markdown",
   "metadata": {},
   "source": [
    "# Problem 2"
   ]
  },
  {
   "cell_type": "markdown",
   "metadata": {},
   "source": [
    "## Part A"
   ]
  },
  {
   "cell_type": "code",
   "execution_count": 417,
   "metadata": {},
   "outputs": [],
   "source": [
    "from sklearn import linear_model\n",
    "from sklearn.metrics import mean_squared_error, r2_score"
   ]
  },
  {
   "cell_type": "code",
   "execution_count": 418,
   "metadata": {},
   "outputs": [],
   "source": [
    "train = pandas.read_csv(\"train.csv\")\n",
    "train = train.drop([\"zipcode\"], axis=1)\n",
    "train = train.drop(train.columns[0], axis=1)"
   ]
  },
  {
   "cell_type": "code",
   "execution_count": 419,
   "metadata": {},
   "outputs": [],
   "source": [
    "x = train.drop(['price'], axis=1)\n",
    "y = train['price']"
   ]
  },
  {
   "cell_type": "code",
   "execution_count": 420,
   "metadata": {},
   "outputs": [
    {
     "data": {
      "text/plain": [
       "array([-1.47042805e+04,  2.56877840e+04,  8.30842103e+01,  3.75929764e-01,\n",
       "        1.55555810e+04,  7.15535170e+05,  6.30278980e+04,  1.88164028e+04,\n",
       "        7.95346027e+04,  4.20104951e+01,  4.10737150e+01, -2.40066933e+03,\n",
       "        4.36829418e+01,  5.53505032e+05, -7.42402712e+03,  6.80157923e+01,\n",
       "       -5.15527568e-01])"
      ]
     },
     "execution_count": 420,
     "metadata": {},
     "output_type": "execute_result"
    }
   ],
   "source": [
    "model = linear_model.LinearRegression()\n",
    "model.fit(x, y)\n",
    "model.coef_"
   ]
  },
  {
   "cell_type": "code",
   "execution_count": 421,
   "metadata": {},
   "outputs": [
    {
     "name": "stdout",
     "output_type": "stream",
     "text": [
      "mse: 31486167775.794872, r^2: 0.7265334318706018, rse: 177443.4213370416\n"
     ]
    }
   ],
   "source": [
    "pred = model.predict(x)\n",
    "mse = mean_squared_error(y, pred)\n",
    "r2 = r2_score(y, pred)\n",
    "rse = math.sqrt(mean_squared_error(y, pred))\n",
    "print(\"mse: {}, r^2: {}, rse: {}\".format(mse, r2, rse))"
   ]
  },
  {
   "cell_type": "markdown",
   "metadata": {},
   "source": [
    "## Part B"
   ]
  },
  {
   "cell_type": "code",
   "execution_count": 452,
   "metadata": {},
   "outputs": [],
   "source": [
    "trainScaled = train.copy()\n",
    "trainScaled = trainScaled - trainScaled.mean()\n",
    "trainScaled = trainScaled / trainScaled.std()"
   ]
  },
  {
   "cell_type": "code",
   "execution_count": 453,
   "metadata": {},
   "outputs": [
    {
     "data": {
      "text/plain": [
       "array([-4.27106556e-02,  5.78674496e-02, -6.49597640e+12,  3.10876091e-02,\n",
       "        2.39523529e-02,  1.87565475e-01,  1.42141920e-01,  3.92609015e-02,\n",
       "        2.72242854e-01,  5.78010557e+12,  3.29871342e+12, -2.00223703e-01,\n",
       "        5.15966007e-02,  2.32731749e-01, -1.31850540e-03,  1.31589596e-01,\n",
       "       -3.82068419e-02])"
      ]
     },
     "execution_count": 453,
     "metadata": {},
     "output_type": "execute_result"
    }
   ],
   "source": [
    "x_scaled = trainScaled.drop(['price'], axis=1)\n",
    "y_scaled = trainScaled['price']\n",
    "modelScaled = linear_model.LinearRegression()\n",
    "modelScaled.fit(x_scaled, y_scaled)\n",
    "modelScaled.coef_"
   ]
  },
  {
   "cell_type": "code",
   "execution_count": 454,
   "metadata": {},
   "outputs": [
    {
     "name": "stdout",
     "output_type": "stream",
     "text": [
      "mse: 0.2732457258827541, r^2: 0.726480754872115, rse: 0.522729113291726\n"
     ]
    }
   ],
   "source": [
    "pred_scaled = modelScaled.predict(x_scaled)\n",
    "mse = mean_squared_error(y_scaled, pred_scaled)\n",
    "r2 = r2_score(y_scaled, pred_scaled)\n",
    "rse = math.sqrt(mean_squared_error(y_scaled, pred_scaled))\n",
    "print(\"mse: {}, r^2: {}, rse: {}\".format(mse, r2, rse))"
   ]
  },
  {
   "cell_type": "markdown",
   "metadata": {},
   "source": [
    "### Comparing the models\n",
    "\n",
    "In comparison to the other model, this one has about the same r^2 value, but the MSE is much lower. This is becaues all the features were scaled so  the large MSE before was attributed to the large response values"
   ]
  },
  {
   "cell_type": "markdown",
   "metadata": {},
   "source": [
    "## Part C"
   ]
  },
  {
   "cell_type": "code",
   "execution_count": 470,
   "metadata": {},
   "outputs": [],
   "source": [
    "test = pandas.read_csv(\"test.csv\")\n",
    "test = test.drop([\"id\", \"date\", \"zipcode\"], axis=1)\n",
    "test = test.drop(test.columns[0], axis=1)\n",
    "testScaled = test.copy()\n",
    "testScaled = testScaled - train.mean()\n",
    "testScaled = testScaled / train.std()"
   ]
  },
  {
   "cell_type": "code",
   "execution_count": 471,
   "metadata": {},
   "outputs": [],
   "source": [
    "x_test = test.drop([\"price\"], axis=1)\n",
    "y_test = test[\"price\"]\n",
    "x_test_scaled = testScaled.drop([\"price\"], axis=1)\n",
    "y_test_scaled = testScaled[\"price\"]"
   ]
  },
  {
   "cell_type": "code",
   "execution_count": 472,
   "metadata": {},
   "outputs": [
    {
     "name": "stdout",
     "output_type": "stream",
     "text": [
      "non scaled model\n",
      "mse: 57628154705.669876, r^2: 0.6543560876120986, rse: 240058.64847088905\n",
      "\n",
      "scaled model\n",
      "mse: 0.5006894559398107, r^2: 0.653891136597871, rse: 0.7075941322112633\n"
     ]
    }
   ],
   "source": [
    "y_test_pred = model.predict(x_test)\n",
    "y_test_scaled_pred = modelScaled.predict(x_test_scaled)\n",
    "mse = mean_squared_error(y_test, y_test_pred)\n",
    "r2 = r2_score(y_test, y_test_pred)\n",
    "rse = math.sqrt(mse)\n",
    "print(\"non scaled model\\nmse: {}, r^2: {}, rse: {}\\n\".format(mse, r2, rse))\n",
    "mseScaled = mean_squared_error(y_test_scaled, y_test_scaled_pred)\n",
    "r2Scaled = r2_score(y_test_scaled, y_test_scaled_pred)\n",
    "rseScaled = math.sqrt(mseScaled)\n",
    "print(\"scaled model\\nmse: {}, r^2: {}, rse: {}\".format(mseScaled, r2Scaled, rseScaled))"
   ]
  },
  {
   "cell_type": "markdown",
   "metadata": {},
   "source": [
    "## Part D\n",
    "\n",
    "The features taht have the most impact are sqft_living, sqft_above, and sqft_basement. This makes sense because the price of a house does depend a lot on how big it is. What is surprising is that number of bedrooms did not seem to have a major impact on the price. I expected the more bedrooms the more the price, but I think bedrooms and sqft_living are heavily tied. The model is fitting the data well as the r^2 is .65 which means the model can handle a reasonable amount of variability. The error is quite large however as the RSE is large meaning some predictions will be very inaccurate. "
   ]
  },
  {
   "cell_type": "markdown",
   "metadata": {},
   "source": [
    "# Problem 3"
   ]
  },
  {
   "cell_type": "markdown",
   "metadata": {},
   "source": [
    "## Part A"
   ]
  },
  {
   "cell_type": "code",
   "execution_count": 458,
   "metadata": {},
   "outputs": [],
   "source": [
    "sqft_living = train[\"sqft_living\"]\n",
    "price = train[\"price\"]\n",
    "xBar = sqft_living.mean()\n",
    "yBar = price.mean()"
   ]
  },
  {
   "cell_type": "code",
   "execution_count": 459,
   "metadata": {},
   "outputs": [],
   "source": [
    "num = 0\n",
    "denom = 0\n",
    "for i in range(len(sqft_living)):\n",
    "    num += (sqft_living[i] - xBar) * (price[i] - yBar)\n",
    "    denom += (sqft_living[i] - xBar)**2\n",
    "theta1 = num/denom\n",
    "theta0  = yBar - (theta1 * xBar)"
   ]
  },
  {
   "cell_type": "code",
   "execution_count": 460,
   "metadata": {},
   "outputs": [
    {
     "data": {
      "text/plain": [
       "269.46205468469446"
      ]
     },
     "execution_count": 460,
     "metadata": {},
     "output_type": "execute_result"
    }
   ],
   "source": [
    "theta1"
   ]
  },
  {
   "cell_type": "code",
   "execution_count": 461,
   "metadata": {},
   "outputs": [
    {
     "data": {
      "text/plain": [
       "-32304.6547210266"
      ]
     },
     "execution_count": 461,
     "metadata": {},
     "output_type": "execute_result"
    }
   ],
   "source": [
    "theta0"
   ]
  },
  {
   "cell_type": "code",
   "execution_count": 462,
   "metadata": {},
   "outputs": [
    {
     "data": {
      "image/png": "[encoded data removed]",
      "text/plain": [
       "<Figure size 432x288 with 1 Axes>"
      ]
     },
     "metadata": {
      "needs_background": "light"
     },
     "output_type": "display_data"
    }
   ],
   "source": [
    "import matplotlib.pyplot as plt\n",
    "plt.plot(sqft_living, price, 'ro')\n",
    "plt.plot([0, 6000], [theta0, theta1 * 6000 + theta0])\n",
    "plt.plot()\n",
    "plt.show()"
   ]
  },
  {
   "cell_type": "code",
   "execution_count": 463,
   "metadata": {},
   "outputs": [
    {
     "name": "stdout",
     "output_type": "stream",
     "text": [
      "MSE : 57947526161.28836, r^2 : 0.49670880166311404, rse : 240722.92404606662\n"
     ]
    }
   ],
   "source": [
    "def pred(x):\n",
    "    return theta0 + theta1 * x\n",
    "predicted = [pred(sqft_living[i]) for i in range(0, n)]\n",
    "mse = mean_squared_error(price, predicted)\n",
    "r2 = r2_score(price, predicted)\n",
    "rse = math.sqrt(mse)\n",
    "print(\"MSE : {}, r^2 : {}, rse : {}\".format(mse, r2, rse))"
   ]
  },
  {
   "cell_type": "markdown",
   "metadata": {},
   "source": [
    "## Part B"
   ]
  },
  {
   "cell_type": "code",
   "execution_count": 477,
   "metadata": {},
   "outputs": [],
   "source": [
    "from numpy import matmul\n",
    "from numpy.linalg import inv\n",
    "from numpy.linalg import norm\n",
    "y = trainScaled[\"price\"]\n",
    "xPandas = trainScaled.drop(['price'], axis=1)\n",
    "xPandas.insert(0, 0, 1)\n",
    "X = xPandas.values\n",
    "n = X.shape[0]\n",
    "d = X.shape[1] - 1\n",
    "XT = X.transpose()\n",
    "theta = matmul(matmul(inv(matmul(XT, X)), XT), y)"
   ]
  },
  {
   "cell_type": "code",
   "execution_count": 478,
   "metadata": {},
   "outputs": [
    {
     "data": {
      "text/plain": [
       "array([ 1.16683573e-13, -1.24298034e-02, -4.73053034e-02,  3.11743954e-01,\n",
       "        4.64119237e-02,  6.66237278e-02,  1.88841504e-01,  1.38390601e-01,\n",
       "        3.70339949e-02,  2.72721961e-01,  5.29109366e-02,  2.90411911e-02,\n",
       "       -1.99349813e-01,  5.09001715e-02,  2.30979722e-01, -3.05082836e-03,\n",
       "        1.34321094e-01, -3.81060382e-02])"
      ]
     },
     "execution_count": 478,
     "metadata": {},
     "output_type": "execute_result"
    }
   ],
   "source": [
    "theta"
   ]
  },
  {
   "cell_type": "markdown",
   "metadata": {},
   "source": [
    "# Part C"
   ]
  },
  {
   "cell_type": "code",
   "execution_count": 479,
   "metadata": {},
   "outputs": [
    {
     "name": "stdout",
     "output_type": "stream",
     "text": [
      "MSE : 0.2780124433924648, r^2 : 0.7217092658734054, rse : 0.5272688530460193\n",
      "MSE on test: 0.5112846884712547, r^2 on test: 0.6465670281201799, rse on test : 0.7150417389714077\n"
     ]
    }
   ],
   "source": [
    "def pred(theta, x):\n",
    "    return sum(theta * x)\n",
    "predicted = [pred(theta, X[i]) for i in range(0, n)]\n",
    "mse = mean_squared_error(y, predicted)\n",
    "r2 = r2_score(y, predicted)\n",
    "rse = math.sqrt(mse)\n",
    "x_test_scaled = testScaled.drop([\"price\"], axis=1)\n",
    "x_test_scaled.insert(0,0,1)\n",
    "X_test = x_test_scaled.values\n",
    "test_pred = [pred(theta, X_test[i]) for i in range(0,n)]\n",
    "mse_test = mean_squared_error(y_test_scaled, test_pred)\n",
    "r2_test = r2_score(y_test_scaled, test_pred)\n",
    "rse_test = math.sqrt(mse_test)\n",
    "print(\"MSE : {}, r^2 : {}, rse : {}\".format(mse, r2, rse, mse_test))\n",
    "print(\"MSE on test: {}, r^2 on test: {}, rse on test : {}\".format(mse_test, r2_test, rse_test))"
   ]
  },
  {
   "cell_type": "markdown",
   "metadata": {},
   "source": [
    "### Comparing closed form and package \n",
    "The coeffecients are more even from the closed form. They all have similar magnitudes than the package given ones where some features had much bigger coeffecients. This model has similar stats for the test data, but it still may have overfitted on the test data as the high r^2 and lower RSE may indicate that. The validation data still seemed to have fitted well however. "
   ]
  },
  {
   "cell_type": "markdown",
   "metadata": {},
   "source": [
    "# Problem 4"
   ]
  },
  {
   "cell_type": "markdown",
   "metadata": {},
   "source": [
    "## Part A and B"
   ]
  },
  {
   "cell_type": "code",
   "execution_count": 475,
   "metadata": {},
   "outputs": [
    {
     "name": "stdout",
     "output_type": "stream",
     "text": [
      "alpha: 0.01, number of iterations: 15\n",
      "theta: [5.622649013048432e-15, 0.03927778691985031, 0.07040747854589939, 0.1174157241960177, 0.017307731270750852, 0.03239252097125081, 0.06962848731941493, 0.0884363452430802, 0.020922259905258412, 0.11047371576449541, 0.09279505367789762, 0.06862207724379565, -0.023997819931495464, 0.03360796982645111, 0.08469118923408267, -0.010461955533740427, 0.10759828141282586, 0.018807847427967678]\n",
      "MSE train: 0.40318706042696695\n",
      "MSE test: 0.688984262651524\n",
      "alpha: 0.01, number of iterations: 25\n",
      "theta: [1.2050683784181614e-14, 0.03719742605272535, 0.07684711216156895, 0.14194914389200616, 0.016155205127643818, 0.03453739126238882, 0.09699561669813177, 0.11637445028015378, 0.030772021040379374, 0.1369086967717433, 0.11028000231233023, 0.08629674582229521, -0.04882229505433592, 0.04684664828308554, 0.12122337630186948, -0.02266509826177874, 0.13071963629276884, 0.016870804590172667]\n",
      "MSE train: 0.33887232477893003\n",
      "MSE test: 0.5981706928180553\n",
      "alpha: 0.01, number of iterations: 50\n",
      "theta: [2.8980026156588677e-14, 0.017737327042157428, 0.07022218831481823, 0.16108776954583587, 0.010727709329839743, 0.03278067205121349, 0.13588356155497638, 0.14628964206411826, 0.0428987244594199, 0.16678101747870488, 0.12525968338417065, 0.09773754647133841, -0.09427718430976736, 0.06273185504934205, 0.17714214402773001, -0.038819157502844516, 0.15107847653089568, 0.007921282667920587]\n",
      "MSE train: 0.29333397498894986\n",
      "MSE test: 0.5338535693382401\n",
      "alpha: 0.01, number of iterations: 60\n",
      "theta: [3.5590996816381454e-14, 0.010335331192946832, 0.06668692041750285, 0.16370787361491293, 0.009472723516946389, 0.03224152396499135, 0.14499702454350671, 0.1508258092754578, 0.044880755214434194, 0.17418482037726168, 0.1284773146712304, 0.09725914349666193, -0.10615121433461525, 0.06526639715680156, 0.19089623978289896, -0.04061510229882193, 0.15460519338087447, 0.0050491265758369494]\n",
      "MSE train: 0.28727603028272314\n",
      "MSE test: 0.525323994669196\n",
      "alpha: 0.01, number of iterations: 100\n",
      "theta: [5.952286219468307e-14, -0.010738950523330812, 0.056724487990233836, 0.1678461337091595, 0.0079383534139162, 0.03079548681694791, 0.16532707516662173, 0.1546858903445629, 0.04723476143906653, 0.19552084490717403, 0.13712474450553794, 0.09025610489837539, -0.13518344771140398, 0.06713432483204305, 0.22123444152837793, -0.037485091686752514, 0.1611403717365458, -0.003136172923331235]\n",
      "MSE train: 0.27815604191853216\n",
      "MSE test: 0.5119104782807268\n",
      "alpha: 0.05, number of iterations: 15\n",
      "theta: [4.552297427906637e-14, -0.00044261054300827156, 0.06145724424130092, 0.16657435890198882, 0.007991309119678047, 0.03166993815831153, 0.15686647809989016, 0.1555802202067559, 0.0469988126745612, 0.18435696867505535, 0.1328876989606185, 0.09517594767834456, -0.12194990116196959, 0.0679460961398682, 0.20909327784435075, -0.04176369632247984, 0.1589374168569805, 0.0010878909814336457]\n",
      "MSE train: 0.28145178802849546\n",
      "MSE test: 0.5168319384624818\n",
      "alpha: 0.05, number of iterations: 25\n",
      "theta: [7.265952839397016e-14, -0.01959203196716301, 0.05273478374360265, 0.16887854226663204, 0.008120906654958408, 0.02976743014110467, 0.1724287259566019, 0.15322496387647372, 0.04727991882740513, 0.20580506326266934, 0.14076647211829815, 0.08590802533147861, -0.1468543491793442, 0.06595695240267532, 0.23092632803091348, -0.033019994512136594, 0.16268856569277299, -0.007079611265163409]\n",
      "MSE train: 0.2761932301688888\n",
      "MSE test: 0.5086227473716532\n",
      "alpha: 0.05, number of iterations: 50\n",
      "theta: [1.036538577192658e-13, -0.033286322102059174, 0.04884809162563661, 0.1698867606583512, 0.013269239169989245, 0.02488865696947802, 0.18318422167450568, 0.14451764803769127, 0.0444914867708834, 0.2349804060280472, 0.1452822274058214, 0.0799808116265256, -0.17347396525718456, 0.058880810365097784, 0.23685635393688884, -0.017400717175162318, 0.15758422322106147, -0.01917326862038394]\n",
      "MSE train: 0.2739376400190959\n",
      "MSE test: 0.5034584621056177\n",
      "alpha: 0.05, number of iterations: 60\n",
      "theta: [1.0792722826558075e-13, -0.034825339456180146, 0.04929848441427647, 0.16973078460473645, 0.015608354882001593, 0.02411635565178274, 0.18465889639066174, 0.1429950209052906, 0.04328925761654719, 0.2420769889505828, 0.14522471883651072, 0.07977442474928634, -0.17915406087465732, 0.05717036818764328, 0.2359750063745193, -0.014194740297260273, 0.15443612581816182, -0.02221722328165546]\n",
      "MSE train: 0.2736782899837394\n",
      "MSE test: 0.5025572494119198\n",
      "alpha: 0.05, number of iterations: 100\n",
      "theta: [1.1374634567573594e-13, -0.03667584825135308, 0.0518826454904671, 0.16855736196805682, 0.023025368656350728, 0.023600345124024757, 0.18689444592270882, 0.141363732885307, 0.04020342857065847, 0.25872898500093794, 0.14379275550081938, 0.07997279708668895, -0.19130994496908166, 0.053430402287453355, 0.23303243194983117, -0.007693626075207479, 0.1444955198896388, -0.029776915936383676]\n",
      "MSE train: 0.27329348116127095\n",
      "MSE test: 0.5008618089539066\n",
      "alpha: 0.1, number of iterations: 15\n",
      "theta: [8.398228779071815e-14, -0.025625987952028105, 0.05019857432300275, 0.16944698701381364, 0.008759392728241548, 0.02845331833311991, 0.17690821653381958, 0.1507246941092841, 0.04695225005794341, 0.2143560682044867, 0.1432294652666901, 0.08271170137111687, -0.15550029614824343, 0.06411349846711992, 0.23588151245716188, -0.028264334489350684, 0.1629515213184397, -0.010472475932967138]\n",
      "MSE train: 0.2751980879524598\n",
      "MSE test: 0.5067196516553183\n",
      "alpha: 0.1, number of iterations: 25\n",
      "theta: [1.0448470977308945e-13, -0.03360106559748207, 0.04870234201523222, 0.16994477247948814, 0.013271096805335244, 0.024717033496736915, 0.18342137331260075, 0.1442585912785397, 0.044471874553452764, 0.23549334996627222, 0.14542764028008895, 0.0798402542989216, -0.1739864496407254, 0.05873394569017664, 0.23698613995327444, -0.017052406986088897, 0.15761998457717152, -0.01938423625458472]\n",
      "MSE train: 0.27391565595650064\n",
      "MSE test: 0.5033844825929666\n",
      "alpha: 0.1, number of iterations: 50\n",
      "theta: [1.1382846887286748e-13, -0.03671110568657588, 0.0519257407455073, 0.16853986401005963, 0.023129941308097344, 0.023594001688603032, 0.18693392671288372, 0.14132602269926714, 0.04014575057559124, 0.25900348649085286, 0.14376773834284018, 0.07998217513441172, -0.19152034213171878, 0.05336547108775102, 0.2329759080628342, -0.007587918631537228, 0.14434006773735045, -0.029883948312015143]\n",
      "MSE train: 0.27328973417389796\n",
      "MSE test: 0.5008378562201217\n",
      "alpha: 0.1, number of iterations: 60\n",
      "theta: [1.1478650252527703e-13, -0.03685447062572966, 0.05282741043462863, 0.1680678334029131, 0.02555915897024027, 0.023675146953985003, 0.18727282540484178, 0.14139217148982966, 0.03941644285716648, 0.2632777163871262, 0.14320404831024228, 0.08004034575618796, -0.19432397183800781, 0.05248736439386029, 0.23224078459545316, -0.006063261387536609, 0.14127142955558966, -0.032095643423651676]\n",
      "MSE train: 0.2732380653593093\n",
      "MSE test: 0.5005176236270562\n",
      "alpha: 0.1, number of iterations: 100\n",
      "theta: [1.1635448160518538e-13, -0.03689477905403049, 0.054296174258855266, 0.16730537567980078, 0.030262787794045287, 0.023756458075512847, 0.18772303403001955, 0.14184735284927505, 0.03840033965900196, 0.2701210024947178, 0.14236170344448967, 0.08001486153923548, -0.1984587673252476, 0.05119050290281162, 0.23119975037566964, -0.00365648941099475, 0.13592571492977754, -0.03638637539656568]\n",
      "MSE train: 0.27319540933538433\n",
      "MSE test: 0.500110933716636\n",
      "alpha: 0.15, number of iterations: 15\n",
      "theta: [1.0244583514840143e-13, -0.03287071096097382, 0.04842382189479137, 0.17005070564785732, 0.012038911174975797, 0.025123954915757148, 0.18269983040458668, 0.145054572832642, 0.04513694453941903, 0.23183500613420177, 0.1455271012914463, 0.07987458411238245, -0.1710512018611135, 0.05961482313268591, 0.23758526001478752, -0.018670784762332287, 0.15934128695538408, -0.017809032856325197]\n",
      "MSE train: 0.27407163736654183\n",
      "MSE test: 0.5038566249963705\n",
      "alpha: 0.15, number of iterations: 25\n",
      "theta: [1.1174106639977311e-13, -0.03617137931011293, 0.050340374813494876, 0.1693169371684438, 0.018993209106004095, 0.023550411842202346, 0.18610376659842276, 0.1416280431929712, 0.04166241766835688, 0.25079302297968425, 0.14474077295915894, 0.07980744219154456, -0.185822200604628, 0.05514071360004749, 0.23448965298176472, -0.010591780850815037, 0.1498123726854357, -0.026001990384478025]\n",
      "MSE train: 0.2734416182668348\n",
      "MSE test: 0.5015843419627928\n",
      "alpha: 0.15, number of iterations: 50\n"
     ]
    },
    {
     "name": "stdout",
     "output_type": "stream",
     "text": [
      "theta: [1.1570402969063306e-13, -0.03690366883224948, 0.053701564132427056, 0.167600057952594, 0.028117413434311286, 0.023749414789156688, 0.18754419998323868, 0.14160250659285958, 0.03878696141731581, 0.2673052003573672, 0.14267203334092987, 0.08005139382093467, -0.19683027087172245, 0.051702086137140356, 0.23160119738595467, -0.004642950991090086, 0.13822026364383666, -0.034413529781304415]\n",
      "MSE train: 0.27320686365519775\n",
      "MSE test: 0.5002633578959712\n",
      "alpha: 0.15, number of iterations: 60\n",
      "theta: [1.161733043097968e-13, -0.036898708938784906, 0.05414259931101384, 0.1673745298887415, 0.029636929942911977, 0.023761914502386176, 0.1876739893221255, 0.14177353924184538, 0.03849753291250426, 0.2693709201156053, 0.1424314090525417, 0.08002890287301295, -0.19803854620396383, 0.05132315516209208, 0.2313024307142517, -0.0039192485388777135, 0.13655974035780113, -0.035805293134588675]\n",
      "MSE train: 0.2731975967140817\n",
      "MSE test: 0.5001502137352178\n",
      "alpha: 0.15, number of iterations: 100\n",
      "theta: [1.1656539067317344e-13, -0.03689111455625527, 0.0544805589782418, 0.16723298707142606, 0.03110283187917904, 0.023742408201086498, 0.18778693219503084, 0.1419458458307262, 0.03828469977462199, 0.27105232593177064, 0.14229185577548903, 0.07999469980257895, -0.1989688989707916, 0.05102828995449057, 0.2310751962009665, -0.0033291898285892404, 0.13511185684888607, -0.03717281356888182]\n",
      "MSE train: 0.2731936672812985\n",
      "MSE test: 0.5000632927643183\n",
      "alpha: 0.2, number of iterations: 15\n",
      "theta: [7.536837820509846e-14, 0.18670501946249377, 0.379115692225618, 0.535771147799849, 0.15601839693582067, 0.22862632605411518, 0.2296555098746266, 0.24831834662914498, -0.002634809345918615, 0.5830031442890401, 0.5035357310604565, 0.1727543371118502, 0.03315672161539868, 0.05418638822770612, 0.27150703086791306, 0.1546015221575624, 0.4993929626049111, 0.12878774561229728]\n",
      "MSE train: 4.637297365426604\n",
      "MSE test: 4.947006944867541\n",
      "alpha: 0.2, number of iterations: 25\n",
      "theta: [3.9412451080522756e-14, 0.45002473190437187, 0.7753303642635997, 0.970676815064355, 0.330791393313407, 0.4727104315595564, 0.2846358769688263, 0.37344434448169794, -0.06023531292130696, 1.0039613034413932, 0.9287524698883965, 0.28411269572399844, 0.2761873257055647, 0.047484549810687955, 0.31090087139629613, 0.3609464219219451, 0.9006535200128375, 0.30208910410024153]\n",
      "MSE train: 21.24190220767971\n",
      "MSE test: 22.999176513871905\n",
      "alpha: 0.2, number of iterations: 50\n",
      "theta: [6.479945691140189e-13, -3.5002642853452346, -5.091720463206444, -5.539851583373385, -2.1569851390016144, -3.17154287065546, -0.5068538144044936, -1.510034385691891, 0.7517177165188561, -5.025882382544571, -5.442888927713809, -1.372132702483679, -3.529050705444229, 0.092082188950912, -0.3240449106995682, -2.624100786376284, -5.2473229264113215, -2.3998341700826087]\n",
      "MSE train: 1061.6441978326493\n",
      "MSE test: 1192.1967789223884\n",
      "alpha: 0.2, number of iterations: 60\n",
      "theta: [1.2803710314202024e-12, -7.628929669484775, -11.226130240642432, -12.343368507872267, -4.763683861588876, -6.980663925528544, -1.3348039137510381, -3.479152207371983, 1.601977871729206, -11.338514585365438, -12.101076191076839, -3.103250078265813, -7.499809646991886, 0.14070841096924402, -0.9860409455746382, -5.747670350507072, -11.665318975797625, -5.217960717123902]\n",
      "MSE train: 5100.4609889957455\n",
      "MSE test: 5710.17122329525\n",
      "alpha: 0.2, number of iterations: 100\n",
      "theta: [2.6971076061421688e-11, -175.3427169793717, -260.4234474698303, -288.71170300396193, -110.68491590487241, -161.7131996625517, -34.970032225023566, -83.4720040664819, 36.14527395312447, -267.80361643094926, -282.56602221069454, -73.42346562999293, -168.7801524937559, 2.1220101856767744, -27.872884199420312, -132.6448261040825, -272.344686290476, -119.66465246905301]\n",
      "MSE train: 2719330.594654518\n",
      "MSE test: 3037149.817628547\n"
     ]
    }
   ],
   "source": [
    "def gradient(alpha, iterations, e=0.0001):\n",
    "    theta = [0 for i in range(d+1)]\n",
    "    count = 0\n",
    "    def h(theta, i):\n",
    "        return sum(theta * X[i])\n",
    "    while count < iterations:\n",
    "        norm = 0\n",
    "        hVals = [h(theta, i) for i in range(n)]\n",
    "        for j in range(d+1):\n",
    "            val = 0\n",
    "            for i in range(n):\n",
    "                val += (hVals[i] - y[i]) * X[i,j]\n",
    "            newTheta = theta[j] - alpha * (2/n) * (val)\n",
    "            norm += (newTheta - theta[j])**2\n",
    "            theta[j] = newTheta\n",
    "        if math.sqrt(norm) < e:\n",
    "            break\n",
    "        count += 1\n",
    "    return theta\n",
    "alphas = [0.01, 0.05, 0.1, 0.15, 0.2]\n",
    "iterations = [15, 25, 50, 60, 100]\n",
    "def mse_train(theta):\n",
    "    return mean_squared_error(y, [pred(theta, X[i]) for i in range(0, n)])\n",
    "def mse_test(theta):\n",
    "    return mean_squared_error(y_test_scaled, [pred(theta, X_test[i]) for i in range(0, n)])\n",
    "for alpha in alphas:\n",
    "    for iteration in iterations:\n",
    "        print(\"alpha: {}, number of iterations: {}\".format(alpha, iteration))\n",
    "        theta = gradient(alpha, iteration)\n",
    "        print(\"theta: {}\".format(str(theta)))\n",
    "        print(\"MSE train: {}\".format(mse_train(theta)))\n",
    "        print(\"MSE test: {}\".format(mse_test(theta)))"
   ]
  },
  {
   "cell_type": "markdown",
   "metadata": {},
   "source": [
    "## Part C"
   ]
  },
  {
   "cell_type": "markdown",
   "metadata": {},
   "source": [
    "### Observations\n",
    "I got virtually the same MSE as the closed form using 0.01 alpha and 100 iterations. The MSE matched both the training and testing set. Different learning rates greatly vary the MSE and as I increased the alpha, there was a stage where it seemed to stop converging as the learning rate probably made the descent jump over convergence point over and over again.  This caused the MSE to be very high as theta did not converge. The more iterations and smaller alpha gave best results, but it took much longer to run especially if convergence was not close to happening."
   ]
  },
  {
   "cell_type": "markdown",
   "metadata": {},
   "source": [
    "# Problem 5"
   ]
  },
  {
   "cell_type": "markdown",
   "metadata": {},
   "source": [
    "## Part A\n",
    "![5A](5a.jpg)"
   ]
  },
  {
   "cell_type": "markdown",
   "metadata": {},
   "source": [
    "## Part B"
   ]
  },
  {
   "cell_type": "code",
   "execution_count": 485,
   "metadata": {
    "scrolled": true
   },
   "outputs": [
    {
     "name": "stdout",
     "output_type": "stream",
     "text": [
      "l = 5000, MSE : 0.548091625339674, r^2 : 0.45135973439471455, rse : 0.7403321047608796\n",
      "test l = 5000, MSE : 0.8880610802039898, r^2 : 0.38611487129455513, rse : 0.7403321047608796\n",
      "l = 10000, MSE : 0.680032000864685, r^2 : 0.3192872864217292, rse : 0.8246405282695515\n",
      "test l = 10000, MSE : 1.0554861739577892, r^2 : 0.27037984189324016, rse : 0.8246405282695515\n",
      "l = 500, MSE : 0.2980984886490465, r^2 : 0.7016031144654156, rse : 0.545983963728832\n",
      "test l = 500, MSE : 0.5507787923922318, r^2 : 0.6192661547804021, rse : 0.545983963728832\n",
      "l = 100, MSE : 0.27527222441881644, r^2 : 0.7244522278089895, rse : 0.5246639156820454\n",
      "test l = 100, MSE : 0.5089028885264261, r^2 : 0.6482134819489478, rse : 0.5246639156820454\n",
      "l = 50, MSE : 0.2738118124857615, r^2 : 0.7259141016158512, rse : 0.5232703053735818\n",
      "test l = 50, MSE : 0.5042189992954668, r^2 : 0.6514512884551501, rse : 0.5232703053735818\n",
      "l = 0, MSE : 0.2780124433924648, r^2 : 0.7217092658734054, rse : 0.5272688530460193\n",
      "test l = 0, MSE : 0.5112846884712547, r^2 : 0.6465670281201799, rse : 0.5272688530460193\n",
      "l = 80, MSE : 0.274612383662992, r^2 : 0.725112729066071, rse : 0.5240347160856731\n",
      "test l = 80, MSE : 0.5069939867151536, r^2 : 0.6495330380698285, rse : 0.5240347160856731\n",
      "l = 60, MSE : 0.2740503373031938, r^2 : 0.725675338034838, rse : 0.5234981731612764\n",
      "test l = 60, MSE : 0.5051299339245774, r^2 : 0.6508215916533204, rse : 0.5234981731612764\n"
     ]
    }
   ],
   "source": [
    "from numpy import add\n",
    "from numpy import identity\n",
    "def ridge(l):\n",
    "    lI = l * identity(d+1)\n",
    "    return matmul(matmul(inv(add(matmul(XT, X), lI)), XT), y)\n",
    "ls = [5000, 10000, 500, 100, 50, 0, 80, 60]\n",
    "for l in ls:\n",
    "    theta = ridge(l)\n",
    "    predicted = [pred(theta, X[i]) for i in range(0, n)]\n",
    "    mse = mean_squared_error(y, predicted)\n",
    "    r2 = r2_score(y, predicted)\n",
    "    rse = math.sqrt(mse)\n",
    "    predicted_test = [pred(theta, X_test[i]) for i in range(0, n)]\n",
    "    mseTest = mean_squared_error(y_test_scaled, predicted_test)\n",
    "    r2Test = r2_score(y_test_scaled, predicted_test)\n",
    "    rseTest = math.sqrt(mse)\n",
    "    print(\"l = {}, MSE : {}, r^2 : {}, rse : {}\".format(l, mse, r2, rse))\n",
    "    print(\"test l = {}, MSE : {}, r^2 : {}, rse : {}\".format(l, mseTest, r2Test, rseTest))"
   ]
  },
  {
   "cell_type": "markdown",
   "metadata": {},
   "source": [
    "### Comparing Ridge\n",
    "The ridge regression fit better with smaller lambda values and caused the r^2 value to higher than the closed form or the package models. The MSE did not change that much, but this could mean the model also overfitted on the training set as well. The testing set shows that the model still fit well on the validation set equivalent to the package and closed form solutions."
   ]
  }
 ],
 "metadata": {
  "kernelspec": {
   "display_name": "Python 3",
   "language": "python",
   "name": "python3"
  },
  "language_info": {
   "codemirror_mode": {
    "name": "ipython",
    "version": 3
   },
   "file_extension": ".py",
   "mimetype": "text/x-python",
   "name": "python",
   "nbconvert_exporter": "python",
   "pygments_lexer": "ipython3",
   "version": "3.6.6"
  }
 },
 "nbformat": 4,
 "nbformat_minor": 2
}
